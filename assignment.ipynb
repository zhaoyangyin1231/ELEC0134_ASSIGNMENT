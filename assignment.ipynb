{
 "cells": [
  {
   "cell_type": "code",
   "execution_count": 14,
   "id": "5cae95e3",
   "metadata": {
    "scrolled": true
   },
   "outputs": [],
   "source": [
    "# import libraries\n",
    "import numpy as np\n",
    "import matplotlib.pyplot as plt\n",
    "from sklearn import svm, datasets\n",
    "from sklearn.svm import SVC\n",
    "from sklearn.model_selection import train_test_split\n",
    "from sklearn.utils import shuffle\n",
    "from sklearn.metrics import classification_report,accuracy_score\n",
    "import pandas as pd\n",
    "from sklearn.datasets import load_iris\n",
    "import numpy as np\n",
    "from sklearn.metrics import classification_report,accuracy_score\n",
    "from sklearn import svm\n",
    "import os\n",
    "import numpy as np\n",
    "from keras.preprocessing import image\n",
    "import cv2\n",
    "# import dlib\n",
    "from sklearn.neighbors import KNeighborsClassifier\n",
    "from sklearn import metrics"
   ]
  },
  {
   "cell_type": "markdown",
   "id": "002b42fd",
   "metadata": {},
   "source": [
    "in this section, use SVM algorithm to train models"
   ]
  },
  {
   "cell_type": "code",
   "execution_count": 11,
   "id": "94f6ce32",
   "metadata": {},
   "outputs": [
    {
     "name": "stdout",
     "output_type": "stream",
     "text": [
      "(3000, 2)\n",
      "\n",
      "tr_X2:\n",
      "[[ 0  0  0 ...  2  1  1]\n",
      " [20 22 23 ...  1  3 22]\n",
      " [ 9  4  2 ...  0  0  1]\n",
      " ...\n",
      " [ 0  0  0 ...  2  1  1]\n",
      " [ 0  0  0 ...  0  0  0]\n",
      " [ 0  0  0 ...  0  0  0]]\n",
      "(2000, 16384)\n",
      "<class 'numpy.ndarray'>\n",
      "\n",
      "tr_Y2:\n",
      "(1, 0, 1, 2, 1, 1, 0, 2, 2, 3, 3, 2, 2, 3, 3, 1, 1, 3, 3, 0, 0, 1, 3, 1, 3, 3, 3, 0, 1, 2, 1, 2, 2, 1, 2, 3, 0, 2, 1, 2, 1, 2, 0, 3, 1, 2, 2, 2, 0, 2, 1, 1, 1, 3, 2, 1, 2, 1, 2, 2, 2, 1, 3, 3, 3, 2, 1, 2, 2, 1, 2, 2, 3, 3, 2, 3, 2, 2, 0, 1, 2, 1, 2, 1, 3, 3, 3, 1, 3, 3, 3, 2, 1, 3, 3, 2, 1, 2, 2, 1, 1, 0, 1, 2, 1, 3, 2, 2, 1, 3, 2, 2, 1, 1, 0, 3, 3, 1, 2, 1, 3, 3, 2, 1, 2, 0, 3, 0, 3, 1, 2, 0, 1, 1, 1, 1, 1, 3, 3, 3, 3, 3, 2, 2, 3, 1, 3, 2, 2, 1, 1, 2, 3, 2, 3, 1, 0, 2, 3, 2, 3, 2, 2, 2, 2, 1, 2, 1, 1, 2, 0, 3, 3, 1, 2, 2, 0, 2, 1, 1, 2, 3, 3, 3, 1, 2, 0, 2, 1, 3, 3, 3, 1, 3, 2, 1, 2, 2, 2, 3, 0, 1, 1, 2, 0, 2, 3, 0, 2, 3, 3, 1, 1, 1, 1, 1, 2, 2, 3, 2, 1, 2, 3, 2, 3, 3, 2, 1, 0, 0, 3, 3, 1, 0, 0, 1, 2, 3, 3, 1, 1, 1, 1, 3, 3, 3, 3, 3, 3, 0, 2, 2, 2, 1, 3, 2, 1, 0, 2, 0, 1, 3, 3, 0, 2, 1, 3, 1, 1, 2, 1, 2, 3, 0, 1, 1, 2, 2, 2, 0, 1, 3, 3, 0, 2, 2, 1, 3, 2, 3, 2, 2, 0, 2, 1, 0, 0, 1, 3, 1, 2, 1, 1, 3, 3, 3, 3, 3, 2, 1, 1, 3, 0, 1, 3, 3, 2, 1, 0, 1, 3, 3, 3, 0, 1, 2, 3, 2, 3, 3, 2, 2, 2, 3, 2, 0, 3, 1, 2, 3, 2, 2, 3, 2, 1, 2, 2, 3, 0, 1, 1, 2, 1, 1, 3, 1, 3, 2, 2, 1, 2, 0, 2, 3, 2, 3, 1, 3, 3, 1, 2, 1, 3, 2, 2, 1, 3, 1, 3, 0, 1, 0, 3, 3, 2, 0, 1, 1, 0, 2, 1, 3, 0, 0, 1, 0, 3, 0, 1, 3, 3, 3, 3, 1, 3, 2, 3, 0, 0, 1, 2, 2, 2, 1, 2, 1, 3, 2, 1, 0, 1, 2, 2, 2, 1, 0, 1, 1, 1, 1, 2, 1, 2, 1, 1, 2, 0, 1, 3, 2, 3, 3, 3, 2, 1, 1, 3, 2, 0, 3, 1, 0, 0, 2, 0, 3, 2, 1, 3, 3, 2, 0, 1, 1, 2, 1, 2, 0, 1, 3, 2, 1, 0, 2, 3, 3, 3, 3, 2, 2, 3, 0, 2, 3, 1, 1, 1, 0, 1, 2, 0, 3, 3, 2, 3, 0, 3, 1, 1, 0, 3, 1, 0, 1, 2, 3, 1, 1, 2, 0, 3, 2, 3, 3, 3, 1, 3, 1, 1, 1, 1, 0, 2, 3, 1, 0, 3, 2, 3, 0, 2, 2, 1, 0, 3, 0, 2, 2, 2, 2, 1, 2, 1, 2, 3, 3, 1, 2, 2, 3, 1, 1, 1, 0, 0, 1, 0, 2, 1, 1, 1, 3, 1, 0, 0, 2, 1, 1, 1, 1, 2, 2, 2, 1, 1, 1, 1, 2, 3, 1, 0, 1, 2, 0, 1, 1, 1, 1, 0, 1, 0, 1, 1, 2, 1, 2, 0, 2, 2, 2, 3, 1, 2, 0, 2, 2, 3, 1, 0, 1, 3, 2, 1, 2, 3, 3, 3, 0, 2, 0, 0, 3, 0, 3, 1, 1, 3, 0, 3, 1, 3, 3, 1, 0, 0, 2, 2, 0, 1, 0, 1, 0, 3, 2, 1, 1, 3, 3, 2, 2, 2, 3, 1, 2, 1, 2, 2, 3, 0, 2, 0, 2, 1, 3, 2, 1, 3, 3, 1, 3, 3, 3, 0, 2, 2, 3, 1, 0, 2, 3, 2, 0, 1, 0, 1, 1, 2, 3, 0, 2, 0, 3, 1, 3, 1, 1, 2, 0, 0, 1, 1, 1, 0, 0, 3, 2, 3, 1, 3, 2, 2, 2, 1, 2, 3, 0, 0, 3, 3, 3, 3, 1, 1, 2, 2, 1, 0, 1, 3, 3, 1, 1, 2, 2, 1, 0, 2, 2, 1, 0, 3, 1, 3, 3, 1, 3, 3, 3, 3, 3, 1, 2, 3, 2, 1, 0, 3, 1, 3, 1, 2, 2, 1, 3, 1, 0, 2, 2, 1, 3, 3, 2, 3, 3, 1, 0, 2, 0, 1, 3, 3, 3, 3, 1, 1, 3, 3, 3, 3, 1, 3, 0, 3, 2, 2, 3, 1, 3, 1, 3, 3, 1, 1, 3, 0, 2, 2, 0, 1, 1, 1, 2, 2, 0, 0, 2, 0, 3, 3, 0, 1, 3, 3, 1, 2, 3, 2, 3, 1, 0, 2, 3, 3, 3, 1, 1, 2, 3, 2, 3, 2, 1, 2, 3, 0, 2, 1, 3, 3, 1, 2, 3, 3, 3, 3, 1, 2, 1, 1, 0, 3, 2, 2, 1, 3, 1, 1, 1, 0, 1, 2, 3, 1, 3, 2, 2, 3, 2, 3, 1, 2, 2, 0, 2, 3, 2, 2, 3, 1, 3, 1, 1, 0, 3, 1, 2, 3, 1, 1, 3, 3, 1, 3, 0, 3, 2, 1, 1, 3, 3, 3, 0, 0, 2, 1, 1, 0, 3, 3, 0, 0, 3, 2, 3, 0, 1, 1, 2, 0, 1, 3, 2, 3, 2, 2, 0, 0, 1, 1, 0, 3, 3, 3, 2, 3, 3, 0, 3, 2, 1, 3, 2, 2, 1, 3, 1, 0, 2, 0, 0, 3, 1, 1, 1, 0, 1, 3, 0, 2, 1, 2, 3, 3, 3, 3, 2, 0, 1, 2, 3, 1, 2, 2, 0, 2, 2, 1, 3, 3, 3, 1, 2, 3, 2, 3, 1, 1, 0, 1, 2, 1, 2, 2, 0, 3, 0, 0, 3, 2, 3, 2, 2, 1, 3, 2, 0, 1, 0, 3, 1, 1, 1, 3, 1, 2, 3, 3, 2, 0, 3, 2, 2, 2, 1, 1, 1, 3, 2, 1, 2, 1, 3, 2, 1, 0, 3, 2, 0, 3, 1, 2, 1, 1, 2, 2, 1, 0, 3, 3, 2, 3, 3, 1, 2, 1, 2, 3, 2, 1, 2, 2, 2, 2, 3, 1, 1, 2, 0, 2, 0, 0, 1, 0, 2, 0, 2, 0, 3, 0, 2, 0, 1, 1, 3, 2, 1, 0, 2, 1, 2, 3, 2, 1, 3, 1, 2, 1, 2, 2, 1, 1, 3, 0, 2, 2, 1, 3, 1, 2, 1, 2, 2, 2, 3, 1, 2, 2, 2, 1, 2, 2, 3, 3, 1, 3, 0, 2, 2, 3, 3, 2, 3, 2, 1, 3, 1, 0, 2, 1, 3, 3, 1, 2, 0, 1, 1, 3, 3, 3, 1, 0, 2, 2, 3, 2, 2, 1, 1, 2, 0, 3, 1, 3, 1, 0, 3, 3, 1, 0, 3, 1, 3, 3, 0, 3, 1, 3, 0, 2, 2, 1, 1, 2, 1, 0, 3, 2, 2, 2, 0, 3, 2, 1, 2, 2, 2, 2, 1, 2, 0, 3, 1, 2, 2, 2, 1, 0, 2, 0, 3, 0, 0, 3, 1, 1, 3, 2, 2, 1, 0, 0, 2, 1, 0, 1, 2, 2, 2, 2, 3, 3, 2, 1, 0, 2, 1, 2, 1, 2, 1, 2, 3, 0, 0, 0, 2, 3, 1, 0, 3, 1, 2, 3, 1, 1, 1, 1, 2, 3, 0, 2, 1, 2, 1, 1, 2, 2, 2, 1, 3, 3, 1, 3, 1, 3, 2, 2, 0, 3, 2, 1, 1, 2, 2, 2, 1, 3, 2, 0, 3, 2, 1, 0, 1, 3, 1, 2, 0, 0, 2, 1, 1, 3, 0, 3, 1, 0, 2, 3, 3, 1, 2, 3, 1, 1, 1, 3, 2, 0, 3, 3, 2, 2, 3, 0, 3, 1, 2, 0, 0, 3, 3, 0, 2, 1, 3, 2, 1, 3, 2, 0, 3, 2, 2, 1, 3, 1, 2, 2, 3, 1, 3, 2, 0, 1, 3, 2, 2, 1, 2, 1, 1, 3, 0, 3, 1, 3, 3, 1, 1, 1, 3, 0, 3, 2, 3, 1, 1, 2, 2, 1, 1, 3, 3, 3, 2, 2, 2, 0, 3, 3, 0, 2, 0, 1, 1, 2, 2, 3, 3, 2, 2, 2, 3, 2, 2, 3, 2, 0, 3, 2, 3, 3, 1, 0, 3, 1, 0, 3, 3, 0, 0, 1, 3, 1, 3, 3, 1, 0, 1, 0, 2, 2, 1, 1, 1, 3, 2, 1, 3, 1, 2, 3, 2, 3, 0, 3, 0, 2, 0, 3, 1, 3, 1, 0, 2, 1, 1, 2, 1, 0, 1, 3, 2, 3, 1, 2, 2, 2, 3, 2, 1, 1, 1, 1, 1, 0, 1, 1, 3, 2, 3, 2, 1, 3, 3, 1, 0, 2, 2, 2, 1, 2, 3, 0, 2, 0, 3, 2, 3, 3, 1, 0, 0, 1, 3, 2, 1, 2, 2, 3, 1, 2, 3, 2, 1, 2, 2, 2, 1, 3, 2, 1, 1, 3, 1, 2, 1, 1, 2, 2, 3, 2, 1, 0, 2, 2, 1, 2, 3, 2, 1, 2, 2, 2, 3, 3, 0, 3, 3, 1, 2, 1, 1, 2, 2, 0, 2, 2, 0, 1, 2, 0, 2, 0, 1, 0, 3, 3, 0, 0, 1, 3, 3, 3, 2, 2, 1, 2, 1, 2, 0, 2, 2, 3, 2, 2, 3, 2, 1, 3, 0, 1, 2, 1, 0, 2, 3, 2, 3, 3, 3, 1, 2, 1, 3, 3, 0, 1, 1, 1, 3, 2, 1, 2, 2, 3, 1, 1, 3, 3, 0, 1, 3, 1, 1, 3, 0, 3, 1, 1, 0, 0, 1, 3, 0, 0, 2, 1, 3, 2, 2, 2, 1, 3, 0, 2, 2, 2, 1, 3, 1, 1, 1, 2, 2, 1, 2, 3, 2, 2, 1, 3, 3, 0, 3, 2, 0, 0, 0, 2, 1, 2, 2, 0, 3, 1, 1, 1, 2, 1, 3, 0, 2, 1, 3, 1, 0, 2, 2, 3, 3, 2, 1, 0, 2, 3, 1, 2, 1, 0, 1, 3, 1, 2, 2, 2, 1, 2, 1, 2, 0, 1, 3, 0, 2, 1, 1, 1, 2, 2, 3, 2, 1, 3, 2, 1, 2, 0, 0, 2, 1, 2, 1, 2, 0, 0, 1, 2, 3, 3, 3, 2, 1, 2, 0, 0, 3, 3, 3, 1, 3, 3, 3, 2, 1, 1, 3, 0, 3, 0, 0, 0, 2, 2, 1, 2, 0, 3, 1, 1, 2, 2, 2, 0, 2, 3, 3, 1, 3, 2, 1, 0, 1, 3, 1, 3, 3, 0, 2, 3, 2, 0, 0, 3, 2, 2, 1, 3, 2, 2, 0, 1, 3, 0, 2, 1, 0, 0, 1, 2, 1, 0, 0, 3, 3, 3, 3, 2, 2, 3, 1, 1, 2, 2, 1, 2, 1, 1, 3, 1, 3, 3, 1, 2, 1, 2, 1, 1, 1, 2, 3, 0, 1, 3, 3, 1, 2, 0, 0, 3, 3, 1, 1, 3, 1, 0, 1, 3, 0, 2, 2, 2, 2, 1, 2, 3, 2, 2, 3, 3, 1, 2, 1, 1, 1, 0, 0, 3, 1, 3, 2, 1, 2, 3, 1, 2, 0, 3, 1, 3, 1, 2, 3, 2, 2, 3, 0, 1, 3, 1, 3, 2, 1, 1, 1, 3, 2, 3, 1, 3, 2, 2, 0, 1, 3, 1, 1, 2, 2, 3, 0, 0, 1, 3, 1, 2, 0, 3, 3, 1, 3, 0, 2, 3, 1, 1, 2, 2, 2, 3, 1, 1, 1, 3, 2, 3, 3, 3, 3, 0, 1, 0, 2, 2, 1, 2, 1, 0, 3, 1, 1, 3, 0, 3, 1, 3, 2, 2, 2, 2, 2, 3, 3, 3, 0, 3, 3, 3, 3, 3, 2, 1, 0, 3, 0, 0, 2, 2, 2)\n",
      "<class 'tuple'>\n",
      "2000\n",
      "\n",
      "te_X2:\n",
      "(1000, 16384)\n",
      "<class 'numpy.ndarray'>\n",
      "\n",
      "te_Y2:\n",
      "(2, 3, 3, 1, 2, 0, 2, 0, 2, 2, 1, 2, 2, 3, 0, 1, 2, 3, 1, 1, 1, 1, 2, 2, 2, 2, 3, 3, 2, 2, 2, 1, 2, 3, 3, 3, 2, 3, 1, 2, 3, 0, 2, 3, 0, 1, 1, 3, 2, 1, 0, 1, 3, 2, 0, 1, 3, 2, 1, 3, 1, 3, 3, 2, 3, 3, 3, 3, 3, 2, 2, 1, 0, 1, 1, 2, 2, 3, 2, 2, 3, 2, 3, 0, 1, 1, 3, 2, 3, 0, 2, 1, 3, 2, 1, 0, 2, 2, 0, 1, 1, 2, 3, 3, 0, 0, 2, 2, 0, 2, 3, 0, 1, 2, 3, 1, 1, 2, 3, 3, 3, 2, 1, 1, 2, 0, 3, 2, 1, 1, 1, 1, 1, 3, 2, 3, 1, 2, 3, 2, 1, 1, 0, 3, 3, 0, 1, 0, 3, 2, 3, 1, 1, 3, 0, 3, 1, 3, 1, 0, 1, 1, 3, 0, 2, 1, 3, 2, 2, 3, 1, 0, 1, 1, 2, 2, 3, 3, 3, 1, 0, 2, 3, 1, 2, 1, 3, 1, 3, 2, 3, 0, 1, 2, 3, 3, 3, 2, 2, 2, 1, 3, 3, 2, 0, 1, 3, 2, 2, 3, 1, 3, 2, 2, 1, 1, 3, 1, 3, 1, 2, 3, 1, 3, 3, 1, 1, 0, 1, 3, 3, 2, 2, 1, 3, 2, 2, 1, 1, 0, 1, 2, 1, 3, 1, 1, 2, 2, 1, 3, 3, 1, 2, 2, 3, 1, 1, 2, 2, 3, 1, 0, 0, 1, 2, 1, 2, 3, 1, 3, 2, 3, 1, 1, 1, 3, 2, 3, 3, 0, 2, 2, 1, 2, 1, 1, 3, 2, 3, 1, 2, 3, 3, 3, 0, 1, 3, 3, 1, 1, 2, 2, 1, 0, 1, 3, 0, 0, 3, 3, 2, 1, 3, 0, 2, 2, 3, 1, 0, 1, 0, 0, 3, 1, 3, 0, 0, 1, 0, 1, 3, 2, 1, 2, 2, 0, 1, 3, 2, 3, 1, 3, 2, 2, 2, 1, 3, 3, 2, 2, 1, 2, 0, 1, 0, 0, 0, 3, 3, 1, 2, 2, 1, 3, 1, 0, 0, 1, 2, 3, 2, 0, 3, 3, 1, 2, 3, 2, 0, 2, 1, 1, 3, 0, 0, 1, 2, 2, 3, 2, 2, 1, 3, 1, 0, 2, 2, 2, 3, 2, 1, 0, 2, 3, 1, 1, 1, 0, 3, 1, 2, 0, 1, 2, 0, 3, 3, 3, 1, 3, 1, 3, 1, 1, 1, 0, 3, 0, 1, 1, 2, 0, 0, 3, 2, 0, 2, 1, 2, 0, 3, 1, 1, 2, 2, 0, 3, 3, 3, 1, 2, 2, 3, 3, 2, 0, 3, 2, 3, 3, 1, 1, 2, 0, 0, 2, 2, 3, 1, 3, 1, 2, 2, 3, 2, 3, 3, 0, 1, 0, 1, 1, 1, 1, 2, 1, 1, 0, 1, 1, 3, 3, 2, 2, 1, 2, 2, 1, 1, 3, 2, 0, 3, 1, 1, 3, 3, 2, 1, 1, 0, 0, 1, 1, 3, 2, 0, 3, 2, 3, 1, 2, 2, 0, 3, 1, 1, 2, 1, 1, 2, 2, 0, 3, 1, 0, 2, 1, 0, 1, 3, 2, 2, 3, 2, 1, 3, 2, 1, 2, 0, 1, 1, 1, 3, 0, 2, 3, 1, 3, 2, 0, 1, 3, 1, 1, 3, 2, 2, 0, 2, 3, 1, 2, 1, 1, 0, 3, 2, 2, 3, 0, 2, 1, 2, 2, 1, 1, 3, 2, 3, 3, 3, 3, 1, 1, 2, 1, 3, 0, 1, 2, 2, 3, 1, 2, 3, 0, 2, 3, 2, 1, 2, 3, 2, 0, 1, 3, 1, 3, 1, 3, 1, 3, 1, 0, 2, 2, 3, 3, 3, 0, 3, 0, 0, 1, 3, 0, 2, 2, 3, 2, 1, 1, 0, 3, 1, 3, 1, 2, 3, 1, 1, 3, 0, 1, 0, 1, 3, 2, 3, 2, 3, 3, 1, 3, 2, 2, 3, 1, 1, 1, 3, 2, 1, 2, 3, 2, 2, 3, 1, 2, 1, 3, 2, 0, 2, 2, 2, 1, 2, 0, 3, 2, 2, 3, 3, 0, 1, 0, 1, 2, 1, 3, 3, 3, 2, 1, 0, 3, 0, 3, 2, 1, 0, 2, 3, 3, 1, 1, 1, 2, 1, 3, 2, 1, 1, 2, 3, 0, 2, 1, 2, 2, 1, 1, 1, 2, 3, 2, 2, 2, 1, 0, 2, 1, 1, 2, 0, 1, 3, 2, 3, 3, 3, 2, 2, 2, 3, 1, 2, 3, 2, 3, 3, 3, 1, 1, 0, 3, 3, 1, 3, 2, 3, 1, 1, 2, 1, 1, 1, 1, 2, 2, 1, 1, 2, 1, 3, 2, 2, 2, 3, 1, 2, 3, 1, 0, 1, 3, 2, 2, 1, 2, 0, 3, 0, 1, 3, 2, 2, 1, 2, 0, 2, 1, 1, 2, 3, 0, 0, 1, 2, 0, 0, 1, 3, 1, 1, 3, 2, 3, 3, 0, 3, 3, 0, 2, 2, 2, 0, 3, 3, 2, 1, 1, 1, 3, 0, 1, 0, 1, 2, 0, 3, 1, 1, 2, 2, 0, 3, 0, 2, 0, 2, 3, 0, 2, 0, 3, 3, 2, 3, 0, 0, 3, 1, 0, 2, 1, 3, 0, 3, 2, 2, 1, 0, 2, 1, 0, 3, 1, 3, 3, 3, 3, 2, 3, 1, 0, 1, 1, 3, 3, 2, 1, 3, 3, 2, 2, 1, 1, 2, 3, 3, 3, 0, 3, 2, 1, 2, 1, 3, 0, 3, 1, 0, 3, 2, 1, 1, 2, 2, 3, 3, 0, 2, 2, 3, 3, 2, 3, 1, 0, 3, 2, 3, 2, 0, 0, 0, 3, 1, 1, 3, 2, 3, 1, 1, 2, 2, 0, 0, 3, 1, 3, 2, 2, 3, 1, 2, 3, 1, 1, 3, 1, 0, 0, 1, 2, 3, 3, 1, 0, 1, 2, 2, 0, 2, 2, 1, 3, 3, 3, 2, 0, 1, 2, 2, 3)\n",
      "<class 'tuple'>\n",
      "1000\n"
     ]
    },
    {
     "name": "stdout",
     "output_type": "stream",
     "text": [
      "[1 3 3 1 2 1 2 0 1 2 2 2 2 3 2 2 1 3 1 2 1 2 2 0 2 2 3 3 2 2 1 2 0 3 3 3 2\n",
      " 3 0 1 3 0 1 3 1 1 1 3 2 1 0 1 3 2 0 1 3 0 1 3 1 3 3 2 3 1 3 2 1 2 2 1 3 1\n",
      " 1 2 2 3 2 1 3 2 3 0 1 1 1 2 3 0 0 1 3 2 0 2 2 1 2 1 1 2 3 3 0 0 0 2 0 2 3\n",
      " 0 1 2 3 1 2 1 3 3 3 2 1 1 2 0 3 2 2 1 3 1 1 3 2 3 2 2 0 1 1 1 3 3 3 2 1 0\n",
      " 3 0 3 1 1 3 0 3 1 3 1 0 0 1 3 0 2 1 3 2 2 3 1 0 1 1 2 2 3 3 3 1 0 1 3 2 0\n",
      " 2 3 1 3 2 3 0 1 2 3 3 3 2 2 2 1 3 3 2 1 1 3 0 2 3 1 2 2 1 1 1 3 2 3 2 2 3\n",
      " 1 3 3 2 1 0 1 3 3 2 2 1 3 1 2 0 1 0 1 2 1 3 1 1 2 1 1 3 0 2 2 2 3 1 1 2 2\n",
      " 3 1 2 0 1 2 1 2 3 1 3 2 3 2 1 2 3 1 3 3 0 2 1 2 1 1 1 3 1 3 1 2 3 3 3 0 1\n",
      " 3 3 2 1 2 0 1 0 1 3 0 3 3 3 2 1 3 0 2 2 3 1 0 0 0 0 3 1 3 0 0 1 1 1 3 2 2\n",
      " 2 1 0 1 3 0 3 1 3 2 2 2 1 3 3 2 3 1 2 0 1 0 0 0 3 3 3 1 2 2 3 2 0 2 1 2 3\n",
      " 2 3 3 0 1 2 3 2 1 2 2 1 3 0 0 1 2 2 3 0 2 1 3 1 2 2 2 2 2 2 1 0 2 3 2 1 1\n",
      " 0 3 1 1 0 1 2 0 1 3 3 1 3 3 3 1 1 2 0 3 0 3 1 2 1 0 3 2 1 2 1 2 0 3 2 0 2\n",
      " 2 1 1 3 3 1 2 2 3 3 2 0 3 3 3 3 1 2 2 0 0 2 2 3 2 3 2 1 2 3 0 3 3 0 1 0 1\n",
      " 1 1 1 1 3 1 1 0 1 3 3 0 2 1 2 1 1 1 3 2 0 3 2 0 3 3 2 1 1 0 0 0 1 3 2 0 3\n",
      " 2 3 1 2 1 0 3 1 2 2 1 1 2 2 0 3 1 0 0 0 0 1 3 2 2 3 2 1 3 3 1 2 0 1 3 1 3\n",
      " 1 2 3 1 3 2 0 2 3 2 1 3 2 2 0 2 3 2 2 2 3 2 3 2 2 3 0 2 1 2 2 1 1 3 2 3 3\n",
      " 3 3 1 1 2 2 3 0 1 2 2 3 1 1 3 2 1 3 2 1 2 1 2 0 1 3 1 3 0 3 2 3 0 0 2 2 3\n",
      " 3 3 3 3 0 0 1 3 0 1 2 3 2 1 1 2 3 1 3 1 2 3 1 2 3 0 2 0 1 3 2 3 2 3 3 1 2\n",
      " 2 2 3 1 1 1 3 1 1 2 3 0 1 1 1 2 0 3 2 0 2 2 2 1 2 1 3 2 2 3 3 0 0 0 2 1 1\n",
      " 3 3 1 2 1 2 0 0 3 2 1 0 1 3 3 2 1 1 2 1 3 2 1 2 2 3 2 2 1 2 2 1 1 1 2 3 2\n",
      " 2 1 2 0 2 2 1 1 1 2 3 2 3 3 3 2 2 2 3 1 1 2 1 3 3 3 1 1 0 3 3 2 3 0 3 1 1\n",
      " 2 1 1 1 2 2 2 2 1 2 3 3 1 2 2 3 2 2 3 1 0 1 3 2 2 1 2 0 3 0 1 3 2 0 1 2 0\n",
      " 1 1 1 2 3 0 0 1 2 0 0 1 3 1 1 3 1 3 3 0 3 3 1 0 2 1 0 3 3 0 3 0 1 3 0 1 0\n",
      " 1 1 0 3 2 1 1 2 3 3 1 2 0 2 3 0 2 0 3 3 2 3 3 3 3 1 0 2 1 2 0 3 2 2 1 0 2\n",
      " 1 0 1 2 3 3 3 3 1 3 1 1 1 1 3 3 2 1 3 3 1 2 1 1 2 3 3 3 3 3 2 1 2 1 3 0 3\n",
      " 1 0 3 3 1 2 2 1 3 3 0 2 2 3 3 2 3 2 1 3 2 3 1 0 0 0 3 2 1 3 2 3 1 2 1 1 0\n",
      " 0 3 1 3 2 1 3 2 2 3 0 1 3 1 0 0 1 2 3 3 1 0 1 2 2 0 1 2 1 3 3 3 2 0 1 2 1\n",
      " 3]\n",
      "Accuracy: 0.79\n"
     ]
    }
   ],
   "source": [
    "basedir = '.\\\\assignment_dataset'\n",
    "images_dir = os.path.join(basedir,'image')\n",
    "labels_filename = 'label.csv'\n",
    "# print(images_dir)   # .\\assignment_dataset\\image\n",
    "\n",
    "\n",
    "def extract_features_labels():\n",
    "    \"\"\"\n",
    "    This funtion extracts the features for all images in the folder 'dataset/..'.\n",
    "    It also extracts the tumor label for each image.\n",
    "    :return:\n",
    "        pic_features:  an array containing 68 landmark points for each image in which a face was detected\n",
    "        tumor_labels:      an array containing the gender label (male=0 and female=1) for each image in\n",
    "                            which a face was detected\n",
    "    \"\"\"\n",
    "\n",
    "    all_features = []\n",
    "    all_labels = []\n",
    "    \n",
    "    image_paths = [os.path.join(images_dir, l) for l in os.listdir(images_dir)]\n",
    "#     print(image_paths)   # ‘.\\\\assignment_dataset\\\\image\\\\IMAGE_0032.jpg'\n",
    "    labels_file = open(os.path.join(basedir, labels_filename), 'r')\n",
    "\n",
    "    lines_of_label = labels_file.readlines()\n",
    "#     print(lines_of_label)   # 'IMAGE_0000.jpg,meningioma_tumor,,脑膜瘤\\n'\n",
    "\n",
    "    type_labels = {line.split(',')[0] : line.split(',')[1] for line in lines_of_label[1:]}\n",
    "\n",
    "    # convert tumor names to int\n",
    "    for k,v in type_labels.items():\n",
    "        if v == \"meningioma_tumor\\n\":\n",
    "            type_labels[k] = 1\n",
    "        elif v == 'glioma_tumor\\n':\n",
    "            type_labels[k] = 2\n",
    "        elif v == 'pituitary_tumor\\n':\n",
    "            type_labels[k] = 3\n",
    "        elif v == 'no_tumor\\n':\n",
    "            type_labels[k] = 0\n",
    "\n",
    "    \n",
    "    for img in image_paths:\n",
    "        # pic_features\n",
    "        img_read = cv2.imread(img, flags = 0)  # 把图片转化成 numpy.ndarray，shape=(512, 512)\n",
    "        img_read = cv2.pyrDown(img_read) \n",
    "        img_read = cv2.pyrDown(img_read) \n",
    "        all_features.append(img_read)   # list\n",
    "        \n",
    "        # tumor_labels\n",
    "        file_name= img.split('\\\\')[-1]\n",
    "        all_labels.append(type_labels[file_name])\n",
    "\n",
    "    pic_features = np.array(all_features)\n",
    "    tumor_labels = np.array(all_labels) \n",
    "\n",
    "    return pic_features, tumor_labels\n",
    "\n",
    "def get_data():\n",
    "\n",
    "    X,y = extract_features_labels()   \n",
    "    # X: landmark_features - ndarray, shape = (134, 68, 2)\n",
    "    # y: gender_labels - list, len= 134\n",
    "    \n",
    "    \n",
    "    Y = np.array([y, -(y - 1)]).T   # Y: ndarray, shape = (134, 2)\n",
    "    print(Y.shape)\n",
    "    tr_X = X[:2000]\n",
    "    tr_Y = Y[:2000]\n",
    "    te_X = X[2000:]\n",
    "    te_Y = Y[2000:]\n",
    "    \n",
    "    tr_X2 = tr_X.reshape((2000, 128*128))\n",
    "    tr_Y2 = list(zip(*tr_Y))[0]\n",
    "    te_X2 = te_X.reshape((1000, 128*128))\n",
    "    te_Y2 = list(zip(*te_Y))[0]\n",
    "    \n",
    "    print()\n",
    "    print(\"tr_X2:\")\n",
    "    print(tr_X2)\n",
    "    print(tr_X2.shape)   # (100, 512*512)\n",
    "    print(type(tr_X2))   # numpy.ndarray\n",
    "    print()\n",
    "    print(\"tr_Y2:\")\n",
    "    print(tr_Y2)\n",
    "    print(type(tr_Y2))  # tuple\n",
    "    print(len(tr_Y2))    # len=100\n",
    "    print()\n",
    "    print(\"te_X2:\")\n",
    "    print(te_X2.shape)   # (56, 512*512)\n",
    "    print(type(te_X2))   # numpy.ndarray\n",
    "    print()\n",
    "    print(\"te_Y2:\")\n",
    "    print(te_Y2)\n",
    "    print(type(te_Y2))  # tuple\n",
    "    print(len(te_Y2))    # len=56\n",
    "    \n",
    "   \n",
    "\n",
    "\n",
    "    return tr_X2, tr_Y2, te_X2, te_Y2\n",
    "\n",
    "\n",
    "def img_SVM(training_images, training_labels, test_images, test_labels):\n",
    "    classifier = svm.SVC(kernel='linear')\n",
    "\n",
    "    classifier.fit(training_images, training_labels)\n",
    "\n",
    "    pred = classifier.predict(test_images)\n",
    "\n",
    "    print(pred)\n",
    "\n",
    "    print(\"Accuracy:\", accuracy_score(test_labels, pred))\n",
    "\n",
    "\n",
    "tr_X, tr_Y, te_X, te_Y= get_data()\n",
    "pred=img_SVM(tr_X, tr_Y, te_X, te_Y)\n",
    "# 喂给机器的数据： 100个压缩成2维的array，长度为100的包含gender信息的元组，34个x_test，34个y_test            \n",
    "            \n",
    "\n",
    "img_read = cv2.imread('.\\\\assignment_dataset\\\\image\\\\IMAGE_0032.jpg')  # 把图片转化成 numpy.ndarray，shape=(512, 512, 3)\n",
    "# print(type(img_read))\n",
    "# print(img_read.shape)\n",
    "\n",
    "\n",
    "\n",
    "\n",
    "img_keras = image.load_img('.\\\\assignment_dataset\\\\image\\\\IMAGE_0032.jpg',target_size = None)\n",
    "# print(img_keras)\n",
    "\n",
    "img_keras = image.load_img('.\\\\assignment_dataset\\\\image\\\\IMAGE_0032.jpg',target_size = None)\n",
    "# print(img_keras)\n",
    "\n",
    "img_keras = image.img_to_array(img_keras)\n",
    "# print(img_keras[:,1,1])"
   ]
  },
  {
   "cell_type": "markdown",
   "id": "2d54cd4b",
   "metadata": {},
   "source": [
    "in this section, use different kernel functions and plot the support vectors"
   ]
  },
  {
   "cell_type": "code",
   "execution_count": 6,
   "id": "687b2b16",
   "metadata": {},
   "outputs": [
    {
     "data": {
      "image/png": "[encoded data removed]",
      "text/plain": [
       "<Figure size 432x288 with 4 Axes>"
      ]
     },
     "metadata": {
      "needs_background": "light"
     },
     "output_type": "display_data"
    }
   ],
   "source": [
    "fig, sub = plt.subplots(2, 2) \n",
    "plt.subplots_adjust(wspace=0.4, hspace=0.4)  \n",
    "X0, X1 = X[:, 0], X[:, 1]"
   ]
  },
  {
   "cell_type": "markdown",
   "id": "9e6ad0a8",
   "metadata": {},
   "source": [
    "in this section, use KNN algorithm to train models"
   ]
  },
  {
   "cell_type": "code",
   "execution_count": 15,
   "id": "a92d9c76",
   "metadata": {},
   "outputs": [
    {
     "name": "stdout",
     "output_type": "stream",
     "text": [
      "[2 3 2 1 2 0 2 3 2 2 0 2 2 3 0 1 2 3 3 3 1 1 2 2 2 2 3 3 0 2 2 2 2 3 3 3 1\n",
      " 3 1 2 3 0 2 3 0 1 1 3 2 1 0 2 3 3 3 1 3 0 1 3 1 3 3 2 3 3 3 3 3 2 1 3 3 2\n",
      " 1 2 2 3 2 1 3 0 3 0 1 1 3 2 3 0 1 1 3 2 2 0 2 1 3 3 1 2 3 3 0 0 0 2 0 2 3\n",
      " 0 2 2 3 1 2 2 3 3 3 2 1 3 2 0 3 2 2 1 2 2 0 3 1 3 0 2 3 3 1 1 2 3 3 2 0 0\n",
      " 3 0 3 1 1 3 0 3 2 3 0 0 1 1 3 0 2 1 3 2 2 3 1 0 1 1 2 2 3 1 3 1 0 1 3 1 2\n",
      " 2 3 1 3 2 3 0 1 2 3 3 3 2 2 2 3 3 3 2 0 1 3 1 1 3 0 3 2 1 2 0 3 1 3 1 2 3\n",
      " 1 3 3 1 2 0 1 3 3 0 2 3 3 2 2 1 0 0 0 2 1 3 1 0 2 3 0 3 1 0 2 2 3 1 0 2 2\n",
      " 3 0 3 0 0 2 1 2 0 3 3 1 3 1 1 1 0 2 3 3 0 3 2 2 2 1 1 3 2 3 1 2 3 0 3 0 1\n",
      " 3 3 2 1 2 2 1 0 1 3 0 3 3 3 2 1 3 0 2 2 3 0 0 0 0 2 3 1 3 1 0 1 0 3 3 2 2\n",
      " 2 0 0 1 3 1 3 1 3 2 1 2 0 3 3 2 3 0 2 0 1 3 0 0 3 3 0 2 2 2 3 0 0 2 3 2 3\n",
      " 2 3 3 3 1 2 3 2 3 1 1 1 3 0 0 1 2 2 3 0 2 1 3 1 2 2 2 2 2 2 1 0 2 3 1 1 3\n",
      " 2 3 1 2 1 2 2 0 2 3 3 1 3 3 3 0 1 1 0 3 0 0 1 2 0 3 1 2 0 2 1 2 0 3 3 1 2\n",
      " 2 0 2 3 3 1 2 2 3 3 2 0 3 2 3 2 1 2 2 0 0 2 2 3 2 3 1 1 2 3 2 3 3 0 3 0 1\n",
      " 1 3 1 2 3 1 0 1 1 3 3 1 2 1 2 1 3 2 3 2 3 3 3 0 3 3 2 2 2 0 0 1 1 3 2 0 3\n",
      " 2 3 1 2 0 0 3 1 1 1 1 1 2 2 0 2 1 0 2 0 2 2 3 2 2 3 2 1 3 3 1 2 0 0 3 1 3\n",
      " 3 2 3 1 3 2 2 2 3 2 0 3 1 2 0 2 3 2 2 1 3 2 3 0 2 3 0 2 1 1 2 1 2 3 2 3 3\n",
      " 3 3 1 1 1 1 3 0 0 2 1 3 1 2 3 0 2 2 2 1 2 3 2 0 1 3 2 3 2 3 1 3 0 0 1 0 3\n",
      " 3 0 0 3 2 0 1 3 0 1 2 3 1 1 2 2 3 1 3 1 2 3 1 1 3 0 1 0 2 3 2 3 2 3 3 2 0\n",
      " 2 2 3 1 1 1 3 2 1 2 3 0 1 1 1 2 2 3 2 0 2 0 2 1 2 0 3 2 2 3 3 0 2 0 1 0 0\n",
      " 3 3 2 2 2 2 0 0 3 2 1 0 1 3 3 1 1 1 2 1 3 2 0 1 2 3 3 2 1 2 2 0 1 1 2 3 2\n",
      " 2 3 2 0 2 0 0 1 0 2 3 2 3 3 3 2 2 2 3 1 2 3 2 3 3 3 3 2 0 3 3 2 3 2 1 1 1\n",
      " 2 0 1 1 1 2 2 1 1 2 3 3 1 2 2 3 1 2 3 1 0 3 3 3 2 1 2 0 3 0 1 3 1 0 1 2 1\n",
      " 1 1 1 2 3 0 3 1 2 0 0 1 3 0 1 3 1 3 3 0 3 3 0 2 3 2 0 3 3 1 3 1 0 3 1 3 0\n",
      " 0 0 0 3 1 1 1 2 3 3 0 2 0 3 3 0 2 0 3 3 2 3 3 2 3 1 0 2 1 3 0 3 2 2 1 1 2\n",
      " 1 0 3 2 3 3 3 3 1 3 1 0 2 2 3 3 2 1 3 3 1 2 1 0 2 3 3 3 0 3 2 1 2 1 3 0 3\n",
      " 1 0 3 2 1 2 2 1 3 3 0 2 2 3 3 2 3 2 1 3 2 3 2 0 1 0 3 2 1 3 2 3 1 3 1 1 3\n",
      " 0 3 1 3 2 2 3 2 2 3 1 1 3 2 0 3 2 2 3 3 1 0 0 1 0 0 1 2 0 3 3 3 2 0 2 2 0\n",
      " 2]\n",
      "0.756\n"
     ]
    }
   ],
   "source": [
    "def KNNClassifier(tr_X, tr_Y, te_X,k):\n",
    "\n",
    "    #Create KNN object with a K coefficient\n",
    "    neigh = KNeighborsClassifier(n_neighbors=k)   \n",
    "    # KNeighborsClassifier 是自带的一个函数\n",
    "    # 其中的一个参数 n_neighbors：k neighbors查询使用的邻居数。就是k-NN的k的值，选取最近的k个点\n",
    "    neigh.fit(tr_X, tr_Y) # Fit KNN model\n",
    "\n",
    "\n",
    "    Y_pred = neigh.predict(te_X)\n",
    "    return Y_pred\n",
    "\n",
    "Y_pred=KNNClassifier(tr_X, tr_Y, te_X,4)\n",
    "print(Y_pred)\n",
    "score=metrics.accuracy_score(te_Y,Y_pred)\n",
    "print(score)"
   ]
  },
  {
   "cell_type": "code",
   "execution_count": null,
   "id": "eece0d39",
   "metadata": {},
   "outputs": [],
   "source": [
    "score_list=[]\n",
    "\n",
    "for i in range(1,36):\n",
    "    knn = KNeighborsClassifier(n_neighbors=i)\n",
    "    knn.fit(tr_X,tr_X)\n",
    "    pred_i = knn.predict(te_X)\n",
    "    score_list.append(metrics.accuracy_score(re_Y,pred_i))\n",
    "print(score_list)    \n",
    "              "
   ]
  },
  {
   "cell_type": "code",
   "execution_count": null,
   "id": "500c12a2",
   "metadata": {},
   "outputs": [],
   "source": [
    "plt.plot(range(1,36),score_list,color='pink', linestyle='dashed', marker='o', markerfacecolor='grey',markersize=10)\n",
    "plt.title(\"Accuracy vs. K Value\")\n",
    "plt.xlabel(\"K\")\n",
    "plt.ylabel(\"Accuracy\")\n",
    "plt.show()"
   ]
  },
  {
   "cell_type": "code",
   "execution_count": null,
   "id": "40032498",
   "metadata": {},
   "outputs": [],
   "source": []
  },
  {
   "cell_type": "code",
   "execution_count": 23,
   "id": "06f7790c",
   "metadata": {},
   "outputs": [
    {
     "name": "stdout",
     "output_type": "stream",
     "text": [
      "{'sdfhio': 1, 'sdhou': 2, 'sd': 1, 'fg': 2}\n"
     ]
    }
   ],
   "source": [
    "di = {'sdfhio':\"a\", \"sdhou\": \"b\",'sd':\"a\", \"fg\": \"b\"}\n",
    "for k,v in di.items():\n",
    "    if v == \"a\":\n",
    "        di[k] = 1\n",
    "    elif v == 'b':\n",
    "        di[k] = 2\n",
    "print(di)"
   ]
  },
  {
   "cell_type": "code",
   "execution_count": 12,
   "id": "8a474f92",
   "metadata": {},
   "outputs": [
    {
     "name": "stdout",
     "output_type": "stream",
     "text": [
      "(512, 512)\n"
     ]
    }
   ],
   "source": [
    "img_read = cv2.imread('.\\\\assignment_dataset\\\\image\\\\IMAGE_0032.jpg',flags = 0)\n",
    "# print(img_read)\n",
    "print(img_read.shape)"
   ]
  },
  {
   "cell_type": "code",
   "execution_count": null,
   "id": "6f782bc6",
   "metadata": {},
   "outputs": [],
   "source": []
  }
 ],
 "metadata": {
  "kernelspec": {
   "display_name": "Python 3 (ipykernel)",
   "language": "python",
   "name": "python3"
  },
  "language_info": {
   "codemirror_mode": {
    "name": "ipython",
    "version": 3
   },
   "file_extension": ".py",
   "mimetype": "text/x-python",
   "name": "python",
   "nbconvert_exporter": "python",
   "pygments_lexer": "ipython3",
   "version": "3.7.6"
  }
 },
 "nbformat": 4,
 "nbformat_minor": 5
}
