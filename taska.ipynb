{
 "cells": [
  {
   "cell_type": "code",
   "execution_count": 25,
   "id": "6d9151c2",
   "metadata": {},
   "outputs": [],
   "source": [
    "# import libraries\n",
    "import numpy as np\n",
    "import matplotlib.pyplot as plt\n",
    "from sklearn import svm, datasets\n",
    "from sklearn.svm import SVC\n",
    "from sklearn.model_selection import train_test_split\n",
    "from sklearn.utils import shuffle\n",
    "from sklearn.metrics import classification_report,accuracy_score\n",
    "import pandas as pd\n",
    "from sklearn.datasets import load_iris\n",
    "from sklearn import svm\n",
    "import os\n",
    "from keras.preprocessing import image\n",
    "import cv2\n",
    "from sklearn.neighbors import KNeighborsClassifier\n",
    "from sklearn import metrics"
   ]
  },
  {
   "cell_type": "markdown",
   "id": "903b408a",
   "metadata": {},
   "source": [
    "Functions used for data pre-processing"
   ]
  },
  {
   "cell_type": "code",
   "execution_count": 26,
   "id": "5e19e7b2",
   "metadata": {},
   "outputs": [],
   "source": [
    "def extract_features_labels(task_type):\n",
    "\n",
    "    all_features = []\n",
    "    all_labels = []\n",
    "    \n",
    "    image_paths = [os.path.join(images_dir, l) for l in os.listdir(images_dir)]\n",
    "#     print(image_paths)   # ‘.\\\\assignment_dataset\\\\image\\\\IMAGE_0032.jpg'\n",
    "    labels_file = open(os.path.join(basedir, labels_filename), 'r')\n",
    "\n",
    "    lines_of_label = labels_file.readlines()\n",
    "#     print(lines_of_label)   # 'IMAGE_0000.jpg,meningioma_tumor,\\n'\n",
    "\n",
    "    type_labels = {line.split(',')[0] : line.split(',')[1] for line in lines_of_label[1:]}\n",
    "    \n",
    "    if task_type == \"Binary\":\n",
    "    \n",
    "        # convert tumor names to int\n",
    "        for k,v in type_labels.items():\n",
    "            if v == \"meningioma_tumor\\n\":\n",
    "                type_labels[k] = 1\n",
    "            elif v == 'glioma_tumor\\n':\n",
    "                type_labels[k] = 1\n",
    "            elif v == 'pituitary_tumor\\n':\n",
    "                type_labels[k] = 1\n",
    "            elif v == 'no_tumor\\n':\n",
    "                type_labels[k] = 0\n",
    "                \n",
    "    elif task_type == \"Multiclass\":\n",
    "        for k,v in type_labels.items():\n",
    "            if v == \"meningioma_tumor\\n\":\n",
    "                type_labels[k] = 1\n",
    "            elif v == 'glioma_tumor\\n':\n",
    "                type_labels[k] = 2\n",
    "            elif v == 'pituitary_tumor\\n':\n",
    "                type_labels[k] = 3\n",
    "            elif v == 'no_tumor\\n':\n",
    "                type_labels[k] = 0\n",
    "\n",
    "    \n",
    "    for img in image_paths:\n",
    "        # pic_features\n",
    "        img_read = cv2.imread(img, flags = 0)  # 把图片转化成 numpy.ndarray，shape=(512, 512)\n",
    "        img_read = cv2.pyrDown(img_read) \n",
    "        img_read = cv2.pyrDown(img_read) \n",
    "        all_features.append(img_read)   # list\n",
    "        \n",
    "        # tumor_labels\n",
    "        file_name= img.split('\\\\')[-1]\n",
    "        all_labels.append(type_labels[file_name])\n",
    "\n",
    "    pic_features = np.array(all_features)\n",
    "    tumor_labels = np.array(all_labels) \n",
    "\n",
    "    return pic_features, tumor_labels\n",
    "\n",
    "def get_data(task_type):\n",
    "\n",
    "    X,y = extract_features_labels(task_type)  \n",
    "\n",
    "    # X: landmark_features - ndarray, shape = (134, 68, 2)\n",
    "    # y: gender_labels - list, len= 134\n",
    "    \n",
    "    \n",
    "    Y = np.array([y, -(y - 1)]).T   # Y: ndarray, shape = (134, 2)\n",
    "    tr_X = X[:2500]\n",
    "    tr_Y = Y[:2500]\n",
    "    te_X = X[2500:]\n",
    "    te_Y = Y[2500:]\n",
    "    \n",
    "    tr_X2 = tr_X.reshape((2500, 128*128))\n",
    "    tr_Y2 = list(zip(*tr_Y))[0]\n",
    "    te_X2 = te_X.reshape((500, 128*128))\n",
    "    te_Y2 = list(zip(*te_Y))[0]\n",
    "\n",
    "    return tr_X2, tr_Y2, te_X2, te_Y2"
   ]
  },
  {
   "cell_type": "markdown",
   "id": "14fa04f1",
   "metadata": {},
   "source": [
    "Task A - SVM：in this section, use SVM algorithm to train models for Binary task"
   ]
  },
  {
   "cell_type": "code",
   "execution_count": 27,
   "id": "df7f0957",
   "metadata": {},
   "outputs": [
    {
     "name": "stdout",
     "output_type": "stream",
     "text": [
      "\n",
      "Prediction result:\n",
      "[1 0 1 1 0 1 0 1 1 1 0 0 0 1 1 1 0 1 1 1 1 1 1 0 1 1 1 1 1 1 1 1 0 1 1 0 1\n",
      " 0 0 0 1 1 1 1 1 1 1 0 1 1 0 1 1 1 1 1 1 1 1 1 1 0 1 1 1 1 1 1 1 0 1 1 1 1\n",
      " 1 1 1 1 1 1 1 0 1 1 1 1 1 1 1 1 1 1 1 1 1 1 1 1 1 0 1 1 1 1 1 1 1 1 1 1 1\n",
      " 1 1 1 1 0 1 1 1 1 1 1 1 1 0 0 1 1 1 1 1 0 1 1 0 1 1 0 1 1 1 1 1 1 1 1 1 1\n",
      " 1 1 1 1 1 1 0 1 1 1 1 1 1 1 1 1 1 1 1 1 1 1 1 1 1 1 1 1 1 1 1 1 1 1 0 1 1\n",
      " 0 1 1 1 1 1 1 1 1 1 1 1 0 1 0 1 1 1 1 1 1 1 1 1 1 0 1 1 1 0 1 1 1 1 1 1 1\n",
      " 1 1 1 1 1 1 1 1 1 1 1 1 1 1 1 1 1 1 1 1 1 0 1 1 1 1 1 1 1 1 1 1 1 1 1 1 1\n",
      " 1 1 1 1 1 1 1 1 1 0 1 1 1 1 1 1 1 1 1 1 1 1 1 1 1 1 1 1 1 1 1 1 1 1 1 0 1\n",
      " 1 0 1 1 1 1 1 1 0 1 0 1 1 1 0 1 1 0 0 1 1 1 1 0 1 1 1 0 0 1 1 1 1 1 1 1 1\n",
      " 0 1 1 0 1 1 1 0 1 1 0 1 1 1 1 0 1 0 1 1 0 1 1 1 1 1 1 1 1 1 0 1 1 0 1 0 1\n",
      " 1 1 1 1 1 1 1 0 1 1 1 0 1 1 1 1 0 1 1 0 1 1 1 1 1 1 1 1 1 1 1 1 1 1 1 1 1\n",
      " 1 1 1 1 1 1 1 1 1 0 1 1 1 1 1 1 0 1 1 0 1 1 1 1 1 1 1 1 0 1 1 1 1 1 1 1 1\n",
      " 1 1 1 1 0 0 0 1 1 1 1 1 1 1 1 1 1 0 0 1 1 1 1 1 1 1 1 1 1 1 1 1 0 0 1 1 1\n",
      " 1 1 0 1 1 1 0 1 1 1 1 1 1 1 0 1 1 1 1]\n",
      "Vlidation accuracy: 0.942\n",
      "Trainingaccuracy: 1.0\n"
     ]
    }
   ],
   "source": [
    "basedir = '.\\\\assignment_dataset'\n",
    "images_dir = os.path.join(basedir,'image')\n",
    "labels_filename = 'label.csv'\n",
    "# print(images_dir)   # .\\assignment_dataset\\image\n",
    "\n",
    "\n",
    "def img_SVM(training_images, training_labels, test_images, test_labels):\n",
    "    classifier = svm.SVC(kernel='linear')\n",
    "\n",
    "    classifier.fit(training_images, training_labels)\n",
    "\n",
    "    pred = classifier.predict(test_images)\n",
    "\n",
    "    print()\n",
    "    print('Prediction result:')\n",
    "    print(pred)\n",
    "\n",
    "    print(\"Vlidation accuracy:\", accuracy_score(test_labels, pred))\n",
    "\n",
    "    # Training accuracy\n",
    "    training_pred = classifier.predict(tr_X[:200])\n",
    "    training_accuracy = accuracy_score(training_labels[:200], training_pred)\n",
    "    print(\"Trainingaccuracy:\", training_accuracy)\n",
    "\n",
    "    return pred\n",
    "\n",
    "\n",
    "tr_X, tr_Y, te_X, te_Y= get_data(task_type = \"Binary\")\n",
    "pred=img_SVM(tr_X, tr_Y, te_X, te_Y)\n",
    "# 喂给机器的数据： 100个压缩成2维的array，长度为100的包含gender信息的元组，34个x_test，34个y_test            \n",
    "\n",
    "\n"
   ]
  },
  {
   "cell_type": "markdown",
   "id": "26b981fc",
   "metadata": {},
   "source": [
    "Task A - SVM testing：using test dataset given to calculate accuracy"
   ]
  },
  {
   "cell_type": "code",
   "execution_count": 21,
   "id": "749d32c3",
   "metadata": {},
   "outputs": [
    {
     "name": "stdout",
     "output_type": "stream",
     "text": [
      "[1 1 1 1 0 1 1 1 0 1 0 0 1 1 1 1 0 1 0 1 1 1 1 1 1 1 0 1 0 1 0 1 1 1 1 0 1\n",
      " 1 1 1 0 0 1 1 1 1 1 1 1 0 0 1 1 1 1 1 1 1 1 1 1 1 1 1 1 0 1 1 1 1 1 1 1 0\n",
      " 1 1 0 1 1 1 0 1 1 1 0 1 1 1 1 1 1 1 1 1 1 1 1 0 1 1 0 1 0 1 1 0 1 0 1 1 1\n",
      " 1 1 1 1 1 1 1 1 0 1 1 1 1 1 1 1 1 1 1 1 1 1 1 1 1 1 1 0 1 1 1 1 1 0 1 1 1\n",
      " 1 1 1 0 1 0 1 1 1 1 0 1 1 1 1 1 1 1 1 1 1 1 1 1 1 1 1 1 1 1 1 1 1 1 1 1 1\n",
      " 1 1 1 1 1 1 1 1 1 1 1 0 1 0 1]\n",
      "Test Accuracy: 0.915\n"
     ]
    }
   ],
   "source": [
    "basedir = '.\\\\test'\n",
    "images_dir = os.path.join(basedir,'image')\n",
    "labels_filename = 'label.csv'\n",
    "\n",
    "def get_testing_data(task_type):\n",
    "\n",
    "    X,y = extract_features_labels(task_type)   \n",
    "    # X: landmark_features - ndarray\n",
    "    # y: gender_labels - list, len= 134\n",
    "    \n",
    "    \n",
    "    Y = np.array([y, -(y - 1)]).T   # Y: ndarray, shape = (200, 2)\n",
    "\n",
    "    testing_X = X.reshape((200, 128*128))\n",
    "    testing_Y = list(zip(*Y))[0]\n",
    "\n",
    "    return testing_X, testing_Y\n",
    "\n",
    "def img_SVM_testing(training_images, training_labels, test_images, test_labels):\n",
    "    classifier = svm.SVC(kernel='linear')\n",
    "\n",
    "    classifier.fit(training_images, training_labels)\n",
    "\n",
    "    pred_testing = classifier.predict(test_images)\n",
    "\n",
    "    print(pred_testing)\n",
    "\n",
    "    print(\"Test Accuracy:\", accuracy_score(test_labels, pred_testing))\n",
    "    return pred_testing\n",
    "\n",
    "\n",
    "testing_X, testing_Y= get_testing_data(task_type=\"Binary\")\n",
    "pred_testing=img_SVM_testing(tr_X, tr_Y, testing_X, testing_Y)\n",
    "# 喂给机器的数据： 100个压缩成2维的array，长度为100的包含gender信息的元组，34个x_test，34个y_test "
   ]
  },
  {
   "cell_type": "markdown",
   "id": "d993626a",
   "metadata": {},
   "source": [
    "Task A - knn：in this section, use KNN algorithm to train models for Binary task"
   ]
  },
  {
   "cell_type": "code",
   "execution_count": 28,
   "id": "f4eaa5e9",
   "metadata": {},
   "outputs": [
    {
     "name": "stdout",
     "output_type": "stream",
     "text": [
      "0.922\n"
     ]
    }
   ],
   "source": [
    "k = 2\n",
    "def KNNClassifier(tr_X, tr_Y, te_X,k):\n",
    "\n",
    "    #Create KNN object with a K coefficient\n",
    "    neigh = KNeighborsClassifier(n_neighbors=k)   \n",
    "    neigh.fit(tr_X, tr_Y) # Fit KNN model\n",
    "    Y_pred = neigh.predict(te_X)\n",
    "    return Y_pred\n",
    "\n",
    "tr_X, tr_Y, te_X, te_Y= get_data(task_type = \"Binary\")\n",
    "\n",
    "Y_pred=KNNClassifier(tr_X, tr_Y, te_X,k)\n",
    "\n",
    "score=metrics.accuracy_score(te_Y,Y_pred)\n",
    "print(score)\n"
   ]
  },
  {
   "cell_type": "markdown",
   "id": "e26e6813",
   "metadata": {},
   "source": [
    "Plot the relationship between k value and test accuracy for k values in range [0,20] using the matplotlib library."
   ]
  },
  {
   "cell_type": "code",
   "execution_count": 29,
   "id": "190be731",
   "metadata": {},
   "outputs": [
    {
     "name": "stdout",
     "output_type": "stream",
     "text": [
      "[0.95, 0.922, 0.914, 0.906, 0.906, 0.892, 0.892, 0.896, 0.884, 0.884, 0.88, 0.892, 0.888, 0.886, 0.88, 0.886, 0.888, 0.884, 0.888, 0.884]\n"
     ]
    }
   ],
   "source": [
    "score_list=[]\n",
    "\n",
    "\n",
    "for i in range(1,21):\n",
    "    knn = KNeighborsClassifier(n_neighbors=i)\n",
    "    knn.fit(tr_X,tr_Y)\n",
    "    pred_i = knn.predict(te_X)\n",
    "    score_list.append(metrics.accuracy_score(te_Y,pred_i)) \n",
    "print(score_list)    "
   ]
  },
  {
   "cell_type": "code",
   "execution_count": 30,
   "id": "6174e880",
   "metadata": {},
   "outputs": [
    {
     "data": {
      "image/png": "[encoded data removed]",
      "text/plain": [
       "<Figure size 432x288 with 1 Axes>"
      ]
     },
     "metadata": {
      "needs_background": "light"
     },
     "output_type": "display_data"
    }
   ],
   "source": [
    "plt.plot(range(1,21),score_list,color='red', linestyle='dashed', marker='o', markerfacecolor='black',markersize=10)\n",
    "plt.title(\"Accuracy vs. K value\")\n",
    "plt.xlabel(\"K value\")\n",
    "plt.ylabel(\"Accuracy\")\n",
    "plt.show()"
   ]
  }
 ],
 "metadata": {
  "kernelspec": {
   "display_name": "Python 3 (ipykernel)",
   "language": "python",
   "name": "python3"
  },
  "language_info": {
   "codemirror_mode": {
    "name": "ipython",
    "version": 3
   },
   "file_extension": ".py",
   "mimetype": "text/x-python",
   "name": "python",
   "nbconvert_exporter": "python",
   "pygments_lexer": "ipython3",
   "version": "3.7.6"
  }
 },
 "nbformat": 4,
 "nbformat_minor": 5
}
